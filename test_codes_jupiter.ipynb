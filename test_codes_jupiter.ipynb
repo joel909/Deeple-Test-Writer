{
 "cells": [
  {
   "cell_type": "code",
   "execution_count": 57,
   "metadata": {},
   "outputs": [
    {
     "name": "stdout",
     "output_type": "stream",
     "text": [
      "Currently waiting for the page to load\n",
      "Entered email\n",
      "Waiting for site to load\n",
      "clicking jee button\n",
      "<svg viewBox=\"0 0 24 24\" aria-hidden=\"true\" class=\"mdc-switch__icon mdc-switch__icon--on\"><path d=\"M19.69,5.23L8.96,15.96l-4.23-4.23L2.96,13.5l6,6L21.46,7L19.69,5.23z\"></path></svg><svg viewBox=\"0 0 24 24\" aria-hidden=\"true\" class=\"mdc-switch__icon mdc-switch__icon--off\"><path d=\"M20 13H4v-2h16v2z\"></path></svg>\n",
      "If travelling at same speeds, which of the following matter waves have the shortest wavelength?\n"
     ]
    }
   ],
   "source": [
    "from selenium import webdriver\n",
    "from selenium.webdriver.common.by import By\n",
    "from selenium.webdriver.common.keys import Keys\n",
    "from selenium.webdriver.common.action_chains import ActionChains\n",
    "import time\n",
    "driver = webdriver.Chrome()\n",
    "actions = ActionChains(driver)\n",
    "\n",
    "cct_subject = \"Chemistry\"\n",
    "email = \"joelj26@deeple.in\"\n",
    "password = \"joel225\"\n",
    "driver.get(\"https://learn.uat.deeple.in/\")\n",
    "time.sleep(5)\n",
    "print(\"Currently waiting for the page to load\")\n",
    "\n",
    "#entering the email in the field \n",
    "input_field = driver.find_element(By.ID, 'ui-sign-in-email-input')\n",
    "input_field.send_keys(email)\n",
    "actions.send_keys(Keys.TAB).send_keys(Keys.ENTER).perform()\n",
    "print(\"Entered email\")\n",
    "\n",
    "#clking the next button\n",
    "time.sleep(5)\n",
    "actions.send_keys(password).send_keys(Keys.TAB).send_keys(Keys.TAB).send_keys(Keys.ENTER).perform()\n",
    "\n",
    "print(\"Waiting for site to load\")\n",
    "time.sleep(6)\n",
    "courses_button = driver.find_element(By.CLASS_NAME, \"mdc-tab__content\")\n",
    "courses_button.click()\n",
    "\n",
    "print(\"clicking jee button\")\n",
    "time.sleep(2)\n",
    "element = driver.find_element(By.XPATH, \"//*[contains(text(), 'JEE')]\")\n",
    "element.click()\n",
    "\n",
    "time.sleep(2)\n",
    "element = driver.find_element(By.XPATH, \"//*[contains(text(), 'Chemistry')]\")\n",
    "element.click()\n",
    "\n",
    "time.sleep(2)\n",
    "element = driver.find_element(By.XPATH, \"//*[contains(text(), 'Physical Chemistry (2)')]\")\n",
    "element.click()\n",
    "\n",
    "time.sleep(2)\n",
    "element = driver.find_element(By.XPATH, \"//*[contains(text(), 'Atomic Structure')]\")\n",
    "element.click()\n",
    "\n",
    "time.sleep(2)\n",
    "element = driver.find_element(By.XPATH, \"//*[contains(text(), 'CCT 04')]\")\n",
    "element.click()\n",
    "\n",
    "time.sleep(2)\n",
    "element = driver.find_element(By.XPATH, \"//*[contains(text(), 'View Results')]\")\n",
    "element.click()\n",
    "\n",
    "#this is to get the question div where the div is \n",
    "time.sleep(2)\n",
    "one_div  = driver.find_element(By.CLASS_NAME, \"ng-star-inserted\")\n",
    "two  = one_div.find_element(By.CLASS_NAME, \"ng-star-inserted\")\n",
    "print(two.get_attribute(\"innerHTML\"))\n",
    "\n",
    "#performing recursive search to get the question text\n",
    "three = driver.find_element(By.ID, \"xyz\")\n",
    "four = three.find_element(By.TAG_NAME, \"div\")\n",
    "four = four.find_element(By.TAG_NAME, \"div\")\n",
    "five = four.find_element(By.TAG_NAME, \"quill-view-html\")\n",
    "six = five.find_element(By.TAG_NAME, \"div\")\n",
    "seven = six.find_element(By.TAG_NAME, \"div\")\n",
    "eight = seven.find_element(By.TAG_NAME, \"p\")\n",
    "\n",
    "final_question_text = eight.get_attribute(\"innerHTML\")\n",
    "\n",
    "print(eight.get_attribute(\"innerHTML\"))\n",
    "\n",
    "\n",
    "third = three.find_element(By.TAG_NAME, \"div\")\n",
    "#fourth = third.find_element(By.TAG_NAME, \"div\")\n",
    "\n",
    "\n",
    "\n",
    "\n",
    "# Question_div = driver.find_element(By.CLASS_NAME, \"ng-star-inserted\")\n",
    "# div_element = Question_div.find_element(By.TAG_NAME, \"div\")\n",
    "# question_text = div_element.find_element(By.TAG_NAME, \"div\")\n",
    "# try:\n",
    "#     print(\"in try\")\n",
    "#     e = question_text.get_attribute(\"class\")\n",
    "#     print(e)\n",
    "#     print(\"reached till here\")\n",
    "#     next = question_text.find_element(By.TAG_NAME, \"div\")\n",
    "#     print(\"try ran\")\n",
    "\n",
    "# except:\n",
    "#     print(\"in eceprt\")\n",
    "#     print(next)\n",
    "\n",
    "# hello = question_text.find_element(By.TAG_NAME, \"p\")\n",
    "\n",
    "\n",
    "\n",
    "\n",
    "\n",
    "#waiting for it to approve and make the password field visible\n",
    "\n"
   ]
  },
  {
   "cell_type": "code",
   "execution_count": 2,
   "metadata": {},
   "outputs": [
    {
     "name": "stdout",
     "output_type": "stream",
     "text": [
      "hello\n"
     ]
    }
   ],
   "source": [
    "print(\"hello\")"
   ]
  },
  {
   "cell_type": "code",
   "execution_count": null,
   "metadata": {},
   "outputs": [],
   "source": []
  }
 ],
 "metadata": {
  "kernelspec": {
   "display_name": "Python 3",
   "language": "python",
   "name": "python3"
  },
  "language_info": {
   "codemirror_mode": {
    "name": "ipython",
    "version": 3
   },
   "file_extension": ".py",
   "mimetype": "text/x-python",
   "name": "python",
   "nbconvert_exporter": "python",
   "pygments_lexer": "ipython3",
   "version": "3.12.2"
  }
 },
 "nbformat": 4,
 "nbformat_minor": 2
}
