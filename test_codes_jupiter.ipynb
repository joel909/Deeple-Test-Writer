{
 "cells": [
  {
   "cell_type": "code",
   "execution_count": 25,
   "metadata": {},
   "outputs": [
    {
     "name": "stdout",
     "output_type": "stream",
     "text": [
      "Currently waiting for the page to load\n",
      "Entered email\n",
      "Waiting for site to load\n",
      "clicking jee button\n"
     ]
    }
   ],
   "source": [
    "from selenium import webdriver\n",
    "from selenium.webdriver.common.by import By\n",
    "from selenium.webdriver.common.keys import Keys\n",
    "from selenium.webdriver.common.action_chains import ActionChains\n",
    "import time\n",
    "driver = webdriver.Chrome()\n",
    "actions = ActionChains(driver)\n",
    "\n",
    "cct_subject = \"Chemistry\"\n",
    "email = \"joelj26@deeple.in\"\n",
    "password = \"joel225\"\n",
    "driver.get(\"https://learn.uat.deeple.in/\")\n",
    "time.sleep(5)\n",
    "print(\"Currently waiting for the page to load\")\n",
    "\n",
    "#entering the email in the field \n",
    "input_field = driver.find_element(By.ID, 'ui-sign-in-email-input')\n",
    "input_field.send_keys(email)\n",
    "actions.send_keys(Keys.TAB).send_keys(Keys.ENTER).perform()\n",
    "print(\"Entered email\")\n",
    "\n",
    "#clking the next button\n",
    "time.sleep(5)\n",
    "actions.send_keys(password).send_keys(Keys.TAB).send_keys(Keys.TAB).send_keys(Keys.ENTER).perform()\n",
    "\n",
    "print(\"Waiting for site to load\")\n",
    "time.sleep(6)\n",
    "courses_button = driver.find_element(By.CLASS_NAME, \"mdc-tab__content\")\n",
    "courses_button.click()\n",
    "\n",
    "print(\"clicking jee button\")\n",
    "time.sleep(2)\n",
    "element = driver.find_element(By.XPATH, \"//*[contains(text(), 'JEE')]\")\n",
    "element.click()\n",
    "\n",
    "time.sleep(2)\n",
    "element = driver.find_element(By.XPATH, \"//*[contains(text(), 'Chemistry')]\")\n",
    "element.click()\n",
    "\n",
    "time.sleep(2)\n",
    "element = driver.find_element(By.XPATH, \"//*[contains(text(), 'Physical Chemistry (2)')]\")\n",
    "element.click()\n",
    "\n",
    "time.sleep(2)\n",
    "element = driver.find_element(By.XPATH, \"//*[contains(text(), 'Atomic Structure')]\")\n",
    "element.click()\n",
    "\n",
    "time.sleep(2)\n",
    "element = driver.find_element(By.XPATH, \"//*[contains(text(), 'CCT 05')]\")\n",
    "element.click()\n",
    "\n",
    "\n",
    "\n",
    "\n",
    "#waiting for it to approve and make the password field visible\n",
    "\n"
   ]
  },
  {
   "cell_type": "code",
   "execution_count": 2,
   "metadata": {},
   "outputs": [
    {
     "name": "stdout",
     "output_type": "stream",
     "text": [
      "hello\n"
     ]
    }
   ],
   "source": [
    "print(\"hello\")"
   ]
  },
  {
   "cell_type": "code",
   "execution_count": null,
   "metadata": {},
   "outputs": [],
   "source": []
  }
 ],
 "metadata": {
  "kernelspec": {
   "display_name": "Python 3",
   "language": "python",
   "name": "python3"
  },
  "language_info": {
   "codemirror_mode": {
    "name": "ipython",
    "version": 3
   },
   "file_extension": ".py",
   "mimetype": "text/x-python",
   "name": "python",
   "nbconvert_exporter": "python",
   "pygments_lexer": "ipython3",
   "version": "3.12.2"
  }
 },
 "nbformat": 4,
 "nbformat_minor": 2
}
